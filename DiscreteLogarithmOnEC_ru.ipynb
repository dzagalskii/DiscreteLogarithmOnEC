{
 "cells": [
  {
   "cell_type": "code",
   "execution_count": 1,
   "metadata": {},
   "outputs": [
    {
     "name": "stdout",
     "output_type": "stream",
     "text": [
      "p = 378210113942347253497592771964459729587\n",
      "a = 1883\n",
      "b = 1694\n",
      "d = 23747\n",
      "P = (70778540204701369300413742391668947633 : 148334404152289545940644879256165734985 : 1)\n",
      "Q = (287449511859831002740302386679700497589 : 54046811467332437876933958023858520954 : 1)\n",
      "Количество итераций = 3\n",
      "Дискретный логарифм найден: 7.960222959518433 секунд\n"
     ]
    }
   ],
   "source": [
    "from sympy import randprime\n",
    "from random import randint\n",
    "from time import time\n",
    "\n",
    "\n",
    "def polig_hellman_dl(E, P, Q):\n",
    "    iter_count = 0\n",
    "    q = P.additive_order()\n",
    "    q_factor = factor(q)\n",
    "    d_j_list = []\n",
    "    for qa_j in q_factor:\n",
    "        p = qa_j[0]\n",
    "        a = qa_j[1]\n",
    "        S = E(0, 1, 0)\n",
    "        z = 0\n",
    "        P_0 = (q // p) * P\n",
    "        d_j = 0\n",
    "        for k in range(0, a):\n",
    "            S += int(z * (p**(k - 1))) * P\n",
    "            Q_k = int(q // (p**(k + 1))) * (Q - S)\n",
    "            z = discrete_log(Q_k, P_0, P_0.additive_order(), operation='+')\n",
    "            d_j += z * pow(p, k)\n",
    "            iter_count += 1\n",
    "        d_j_list.append(int(mod(d_j, p**a)))\n",
    "    q_j_list = [qa_j[0]**qa_j[1] for qa_j in q_factor]\n",
    "    d = crt(d_j_list, q_j_list)\n",
    "    print('Количество итераций = {}'.format(iter_count))\n",
    "    return d\n",
    "\n",
    "\n",
    "if __name__ == '__main__':\n",
    "    p = randprime(2**128, 2**130)\n",
    "    a = randint(2**10, 2**11)\n",
    "    b = randint(2**10, 2**11)\n",
    "    d = randint(2**16, 2**17)\n",
    "    d = 23747\n",
    "    print('Эллиптическая кривая: A = {}, B = {}, p = {}'.format(a, b, p))\n",
    "    print('Случайный множитель d = {}'.format(d))\n",
    "    \n",
    "    K = GF(p)\n",
    "    E = EllipticCurve(K, [a, b])\n",
    "    P = E.random_point()\n",
    "    Q = d * P\n",
    "    print('P =', P)\n",
    "    print('Q =', Q)\n",
    "    timer = time()\n",
    "    if polig_hellman_dl(E, P, Q) == d:\n",
    "        print('Дискретный логарифм найден за {} секунд'.format(time() - timer))\n",
    "    else:\n",
    "        print('Дискретный логарифм не найден')\n",
    "\n"
   ]
  },
  {
   "cell_type": "code",
   "execution_count": null,
   "metadata": {},
   "outputs": [],
   "source": []
  }
 ],
 "metadata": {
  "kernelspec": {
   "display_name": "SageMath 9.2",
   "language": "sage",
   "name": "sagemath"
  },
  "language_info": {
   "codemirror_mode": {
    "name": "ipython",
    "version": 3
   },
   "file_extension": ".py",
   "mimetype": "text/x-python",
   "name": "python",
   "nbconvert_exporter": "python",
   "pygments_lexer": "ipython3",
   "version": "3.7.7"
  }
 },
 "nbformat": 4,
 "nbformat_minor": 4
}
